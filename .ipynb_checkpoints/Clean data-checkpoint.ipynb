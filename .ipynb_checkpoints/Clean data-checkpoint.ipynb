{
 "cells": [
  {
   "cell_type": "code",
   "execution_count": 1,
   "id": "d2c014b2",
   "metadata": {},
   "outputs": [],
   "source": [
    "import pandas as pd\n",
    "import unidecode"
   ]
  },
  {
   "cell_type": "code",
   "execution_count": 2,
   "id": "94619c10",
   "metadata": {},
   "outputs": [],
   "source": [
    "web = pd.read_html(\"https://trangtuyensinh.com.vn/danh-muc-ma-tinh-thanh-pho-quan-huyen-va-thi-xa.htm\")"
   ]
  },
  {
   "cell_type": "code",
   "execution_count": 3,
   "id": "fde807cc",
   "metadata": {},
   "outputs": [
    {
     "ename": "NameError",
     "evalue": "name 'df' is not defined",
     "output_type": "error",
     "traceback": [
      "\u001b[1;31m---------------------------------------------------------------------------\u001b[0m",
      "\u001b[1;31mNameError\u001b[0m                                 Traceback (most recent call last)",
      "Input \u001b[1;32mIn [3]\u001b[0m, in \u001b[0;36m<cell line: 1>\u001b[1;34m()\u001b[0m\n\u001b[1;32m----> 1\u001b[0m \u001b[43mdf\u001b[49m[\u001b[38;5;241m1\u001b[39m:]\u001b[38;5;241m.\u001b[39mhead()\n",
      "\u001b[1;31mNameError\u001b[0m: name 'df' is not defined"
     ]
    }
   ],
   "source": [
    "df[1:].head()"
   ]
  },
  {
   "cell_type": "code",
   "execution_count": null,
   "id": "e7f8f2d1",
   "metadata": {},
   "outputs": [],
   "source": [
    "df[1:].groupby('Mã Tỉnh/TP').agg(lambda x: x.value_counts().index[0])"
   ]
  },
  {
   "cell_type": "code",
   "execution_count": 8,
   "id": "4fbb8231",
   "metadata": {},
   "outputs": [],
   "source": [
    "df = web[0]\n",
    "df.columns = web[0].iloc[0]\n",
    "matinh = df[1:].groupby('Mã Tỉnh/TP').agg(lambda x:x.value_counts().index[0])\n",
    "matinh.drop(['STT','Mã Quận/Huyện','Tên Quận/Huyện'], axis=1, inplace=True)\n",
    "matinh.reset_index(inplace=True)\n",
    "matinh.columns = ['city_code', 'city_name']\n",
    "matinh['city_name'] = matinh['city_name'].apply(lambda x: unidecode.unidecode(x))"
   ]
  },
  {
   "cell_type": "code",
   "execution_count": 24,
   "id": "49c48942",
   "metadata": {},
   "outputs": [],
   "source": [
    "matinh[:-1].to_csv(\"city_code.csv\", index=False)"
   ]
  },
  {
   "cell_type": "code",
   "execution_count": 4,
   "id": "f4dc209f",
   "metadata": {},
   "outputs": [
    {
     "ename": "NameError",
     "evalue": "name 'matinh' is not defined",
     "output_type": "error",
     "traceback": [
      "\u001b[1;31m---------------------------------------------------------------------------\u001b[0m",
      "\u001b[1;31mNameError\u001b[0m                                 Traceback (most recent call last)",
      "Input \u001b[1;32mIn [4]\u001b[0m, in \u001b[0;36m<cell line: 1>\u001b[1;34m()\u001b[0m\n\u001b[1;32m----> 1\u001b[0m \u001b[38;5;28mset\u001b[39m(\u001b[38;5;28mlist\u001b[39m(\u001b[38;5;28mmap\u001b[39m(\u001b[38;5;28mstr\u001b[39m,\u001b[38;5;28mrange\u001b[39m(\u001b[38;5;241m0\u001b[39m,\u001b[38;5;241m63\u001b[39m)))) \u001b[38;5;241m-\u001b[39m \u001b[38;5;28mset\u001b[39m(\u001b[43mmatinh\u001b[49m[\u001b[38;5;124m'\u001b[39m\u001b[38;5;124mcity_code\u001b[39m\u001b[38;5;124m'\u001b[39m]\u001b[38;5;241m.\u001b[39mto_list())\n",
      "\u001b[1;31mNameError\u001b[0m: name 'matinh' is not defined"
     ]
    }
   ],
   "source": [
    "set(list(map(str,range(0,63)))) - set(matinh['city_code'].to_list())"
   ]
  },
  {
   "cell_type": "code",
   "execution_count": 34,
   "id": "3f4a959b",
   "metadata": {},
   "outputs": [],
   "source": [
    "import json"
   ]
  },
  {
   "cell_type": "code",
   "execution_count": 35,
   "id": "825c0def",
   "metadata": {},
   "outputs": [],
   "source": [
    "with open(r\"diaphantinhenglish.geojson\", encoding=\"utf-8\") as f:\n",
    "    gj = json.load(f)"
   ]
  },
  {
   "cell_type": "code",
   "execution_count": 36,
   "id": "6b61933a",
   "metadata": {},
   "outputs": [],
   "source": [
    "name_list = []\n",
    "for i in range(63):\n",
    "    name = gj['features'][i]['properties']['Name']\n",
    "    name_list.append(name)"
   ]
  },
  {
   "cell_type": "code",
   "execution_count": 48,
   "id": "09b6eae3",
   "metadata": {},
   "outputs": [
    {
     "data": {
      "text/plain": [
       "['Ba Ria - Vung Tau', 'Thua Thien - Hue', 'TP. Ho Chi Minh']"
      ]
     },
     "execution_count": 48,
     "metadata": {},
     "output_type": "execute_result"
    }
   ],
   "source": [
    "list(set(name_list) - set(matinh['city_name'].to_list()))"
   ]
  },
  {
   "cell_type": "code",
   "execution_count": 39,
   "id": "bc65fb5f",
   "metadata": {
    "scrolled": true
   },
   "outputs": [],
   "source": [
    "differ = list(set(matinh['city_name'].to_list()) - set(name_list))"
   ]
  },
  {
   "cell_type": "code",
   "execution_count": 44,
   "id": "cd7f1d51",
   "metadata": {},
   "outputs": [
    {
     "data": {
      "text/plain": [
       "['Thua Thien -Hue', 'Tp. Ho Chi Minh', 'Ba Ria-Vung Tau', 'Cuc nha truong']"
      ]
     },
     "execution_count": 44,
     "metadata": {},
     "output_type": "execute_result"
    }
   ],
   "source": [
    "differ"
   ]
  },
  {
   "cell_type": "code",
   "execution_count": 42,
   "id": "56c48b7b",
   "metadata": {},
   "outputs": [
    {
     "data": {
      "text/html": [
       "<div>\n",
       "<style scoped>\n",
       "    .dataframe tbody tr th:only-of-type {\n",
       "        vertical-align: middle;\n",
       "    }\n",
       "\n",
       "    .dataframe tbody tr th {\n",
       "        vertical-align: top;\n",
       "    }\n",
       "\n",
       "    .dataframe thead th {\n",
       "        text-align: right;\n",
       "    }\n",
       "</style>\n",
       "<table border=\"1\" class=\"dataframe\">\n",
       "  <thead>\n",
       "    <tr style=\"text-align: right;\">\n",
       "      <th></th>\n",
       "      <th>city_code</th>\n",
       "      <th>city_name</th>\n",
       "    </tr>\n",
       "  </thead>\n",
       "  <tbody>\n",
       "    <tr>\n",
       "      <th>0</th>\n",
       "      <td>1</td>\n",
       "      <td>Ha Noi</td>\n",
       "    </tr>\n",
       "    <tr>\n",
       "      <th>1</th>\n",
       "      <td>2</td>\n",
       "      <td>Tp. Ho Chi Minh</td>\n",
       "    </tr>\n",
       "    <tr>\n",
       "      <th>2</th>\n",
       "      <td>3</td>\n",
       "      <td>Hai Phong</td>\n",
       "    </tr>\n",
       "    <tr>\n",
       "      <th>3</th>\n",
       "      <td>4</td>\n",
       "      <td>Da Nang</td>\n",
       "    </tr>\n",
       "    <tr>\n",
       "      <th>4</th>\n",
       "      <td>5</td>\n",
       "      <td>Ha Giang</td>\n",
       "    </tr>\n",
       "  </tbody>\n",
       "</table>\n",
       "</div>"
      ],
      "text/plain": [
       "   city_code        city_name\n",
       "0          1           Ha Noi\n",
       "1          2  Tp. Ho Chi Minh\n",
       "2          3        Hai Phong\n",
       "3          4          Da Nang\n",
       "4          5         Ha Giang"
      ]
     },
     "execution_count": 42,
     "metadata": {},
     "output_type": "execute_result"
    }
   ],
   "source": [
    "city_code.head()"
   ]
  },
  {
   "cell_type": "code",
   "execution_count": null,
   "id": "542d323d",
   "metadata": {},
   "outputs": [],
   "source": [
    "df replace_city(name):\n",
    "    if name == 'Ba Ria-Vung Tau':\n",
    "        return 'Ba Ria-Vung Tau'\n",
    "    elif name == 'Tp. Ho Chi Minh':\n",
    "        return 'TP. Ho Chi Minh'\n",
    "    elif name == 'Thua Thien -Hue':\n",
    "        return 'Thua Thien - Hue'\n",
    "        "
   ]
  },
  {
   "cell_type": "code",
   "execution_count": 53,
   "id": "d3b3e165",
   "metadata": {},
   "outputs": [
    {
     "name": "stderr",
     "output_type": "stream",
     "text": [
      "C:\\Users\\User\\AppData\\Local\\Temp\\ipykernel_10944\\1834530738.py:1: SettingWithCopyWarning: \n",
      "A value is trying to be set on a copy of a slice from a DataFrame.\n",
      "Try using .loc[row_indexer,col_indexer] = value instead\n",
      "\n",
      "See the caveats in the documentation: https://pandas.pydata.org/pandas-docs/stable/user_guide/indexing.html#returning-a-view-versus-a-copy\n",
      "  city_code[city_code['city_name'].isin(differ)]['city_name'] = ['Ba Ria - Vung Tau', 'Thua Thien - Hue', 'TP. Ho Chi Minh']\n"
     ]
    }
   ],
   "source": [
    "city_code[city_code['city_name'].isin(differ)]['city_name'] = ['Ba Ria - Vung Tau', 'Thua Thien - Hue', 'TP. Ho Chi Minh']"
   ]
  },
  {
   "cell_type": "code",
   "execution_count": 52,
   "id": "bea58fc3",
   "metadata": {},
   "outputs": [
    {
     "data": {
      "text/plain": [
       "0              Ha Noi\n",
       "1     Tp. Ho Chi Minh\n",
       "2           Hai Phong\n",
       "3             Da Nang\n",
       "4            Ha Giang\n",
       "           ...       \n",
       "58           Bac Lieu\n",
       "59             Ca Mau\n",
       "60          Dien Bien\n",
       "61           Dak Nong\n",
       "62          Hau Giang\n",
       "Name: city_name, Length: 63, dtype: object"
      ]
     },
     "execution_count": 52,
     "metadata": {},
     "output_type": "execute_result"
    }
   ],
   "source": [
    "city_code['city_name']"
   ]
  },
  {
   "cell_type": "code",
   "execution_count": 16,
   "id": "a0e03406",
   "metadata": {},
   "outputs": [],
   "source": [
    "import geopandas as gpd"
   ]
  },
  {
   "cell_type": "code",
   "execution_count": 17,
   "id": "a20a5da0",
   "metadata": {},
   "outputs": [],
   "source": [
    "geo_df = gpd.read_file('diaphantinhenglish.geojson')"
   ]
  },
  {
   "cell_type": "code",
   "execution_count": 19,
   "id": "36a5c7e9",
   "metadata": {},
   "outputs": [
    {
     "data": {
      "text/plain": [
       "0              An Giang\n",
       "1     Ba Ria - Vung Tau\n",
       "2             Bac Giang\n",
       "3               Bac Kan\n",
       "4              Bac Lieu\n",
       "            ...        \n",
       "58             Tra Vinh\n",
       "59          Tuyen Quang\n",
       "60            Vinh Long\n",
       "61            Vinh Phuc\n",
       "62              Yen Bai\n",
       "Name: Name, Length: 63, dtype: object"
      ]
     },
     "execution_count": 19,
     "metadata": {},
     "output_type": "execute_result"
    }
   ],
   "source": [
    "geo_df['Name']"
   ]
  },
  {
   "cell_type": "code",
   "execution_count": 40,
   "id": "35228c4a",
   "metadata": {},
   "outputs": [],
   "source": [
    "city_code = pd.read_csv('city_code.csv')"
   ]
  },
  {
   "cell_type": "code",
   "execution_count": null,
   "id": "e53235aa",
   "metadata": {},
   "outputs": [],
   "source": []
  }
 ],
 "metadata": {
  "kernelspec": {
   "display_name": "Python 3 (ipykernel)",
   "language": "python",
   "name": "python3"
  },
  "language_info": {
   "codemirror_mode": {
    "name": "ipython",
    "version": 3
   },
   "file_extension": ".py",
   "mimetype": "text/x-python",
   "name": "python",
   "nbconvert_exporter": "python",
   "pygments_lexer": "ipython3",
   "version": "3.8.12"
  }
 },
 "nbformat": 4,
 "nbformat_minor": 5
}
